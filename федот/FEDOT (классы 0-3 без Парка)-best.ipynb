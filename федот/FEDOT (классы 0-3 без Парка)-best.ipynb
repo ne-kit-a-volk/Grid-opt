{
 "cells": [
  {
   "cell_type": "code",
   "execution_count": 1,
   "id": "3c3b01ba",
   "metadata": {
    "scrolled": true
   },
   "outputs": [],
   "source": [
    "# Блокнот для анализа аномалий с использованием FEDOT\n",
    "# Установка необходимых библиотек\n",
    "#!pip install Fedot -U\n",
    "#!pip install fedot[extra]\n",
    "#!pip install torch"
   ]
  },
  {
   "cell_type": "code",
   "execution_count": 2,
   "id": "cba111b9",
   "metadata": {},
   "outputs": [],
   "source": [
    "import pandas as pd\n",
    "import numpy as np\n",
    "from sklearn.metrics import accuracy_score, classification_report, confusion_matrix\n",
    "import matplotlib.pyplot as plt\n",
    "import seaborn as sns\n",
    "\n",
    "# Импорт необходимых модулей из FEDOT\n",
    "from fedot.core.repository.tasks import Task, TaskTypesEnum\n",
    "from fedot.core.repository.dataset_types import DataTypesEnum\n",
    "from fedot.core.data.data import InputData\n",
    "from fedot.api.main import Fedot"
   ]
  },
  {
   "cell_type": "code",
   "execution_count": 3,
   "id": "20c3c186",
   "metadata": {},
   "outputs": [
    {
     "name": "stdout",
     "output_type": "stream",
     "text": [
      "Размер обучающей выборки: (2670, 174)\n",
      "Размер тестовой выборки: (690, 174)\n"
     ]
    }
   ],
   "source": [
    "# Загрузка и подготовка данных\n",
    "file_path = r\"Классы 0-3 без Парка.csv\"\n",
    "data = pd.read_csv(file_path)\n",
    "\n",
    "# Создание замеров по 30 записей для каждого класса\n",
    "def create_measurements(data, label):\n",
    "    data_label = data[data['label'] == label]\n",
    "    measurements = [data_label.iloc[i:i + 30] for i in range(0, len(data_label), 30) if len(data_label.iloc[i:i + 30]) == 30]\n",
    "    return measurements\n",
    "\n",
    "# Создаем замеры для каждого класса\n",
    "measurements_class_0 = create_measurements(data, 0)\n",
    "measurements_class_1 = create_measurements(data, 1)\n",
    "measurements_class_2 = create_measurements(data, 2)\n",
    "measurements_class_3 = create_measurements(data, 3)\n",
    "\n",
    "# Извлечение 80% замеров для тренировки и 20% для теста для каждого класса\n",
    "def split_measurements(measurements):\n",
    "    num_measurements = len(measurements)\n",
    "    train_measurements = measurements[:int(0.80 * num_measurements)]\n",
    "    test_measurements = measurements[int(0.80 * num_measurements):]\n",
    "    return train_measurements, test_measurements\n",
    "\n",
    "train_measurements_0, test_measurements_0 = split_measurements(measurements_class_0)\n",
    "train_measurements_1, test_measurements_1 = split_measurements(measurements_class_1)\n",
    "train_measurements_2, test_measurements_2 = split_measurements(measurements_class_2)\n",
    "train_measurements_3, test_measurements_3 = split_measurements(measurements_class_3)\n",
    "\n",
    "# Объединение замеров в DataFrame для обучения и тестирования\n",
    "train_data = pd.concat(train_measurements_0 + train_measurements_1 + train_measurements_2 + train_measurements_3)\n",
    "test_data = pd.concat(test_measurements_0 + test_measurements_1 + test_measurements_2 + test_measurements_3)\n",
    "\n",
    "# Разделяем данные на X и y\n",
    "X_train = train_data.drop(columns=['label'])\n",
    "y_train = train_data['label']\n",
    "X_test = test_data.drop(columns=['label'])\n",
    "y_test = test_data['label']\n",
    "\n",
    "# Выводим информацию о сформированных наборах\n",
    "print(f\"Размер обучающей выборки: {X_train.shape}\")\n",
    "print(f\"Размер тестовой выборки: {X_test.shape}\")\n"
   ]
  },
  {
   "cell_type": "code",
   "execution_count": 4,
   "id": "eccdea0e",
   "metadata": {},
   "outputs": [
    {
     "name": "stdout",
     "output_type": "stream",
     "text": [
      "2024-08-29 12:12:41,867 - Topological features operation requires extra dependencies for time series forecasting, which are not installed. It can infuence the performance. Please install it by 'pip install fedot[extra]'\n",
      "2024-08-29 12:12:45,554 - ApiComposer - Initial pipeline was fitted in 18.3 sec.\n",
      "2024-08-29 12:12:45,564 - ApiComposer - AutoML configured. Parameters tuning: True. Time limit: 120 min. Set of candidate models: ['bernb', 'catboost', 'dt', 'fast_ica', 'isolation_forest_class', 'knn', 'lgbm', 'logit', 'mlp', 'normalization', 'pca', 'poly_features', 'qda', 'resample', 'rf', 'scaling', 'xgboost'].\n",
      "2024-08-29 12:12:45,630 - ApiComposer - Pipeline composition started.\n"
     ]
    },
    {
     "name": "stderr",
     "output_type": "stream",
     "text": [
      "Generations:   0%|                                                                           | 0/10000 [00:00<?, ?gen/s]"
     ]
    },
    {
     "name": "stdout",
     "output_type": "stream",
     "text": [
      "2024-08-29 12:12:50,064 - Topological features operation requires extra dependencies for time series forecasting, which are not installed. It can infuence the performance. Please install it by 'pip install fedot[extra]'\n",
      "2024-08-29 12:12:50,088 - Topological features operation requires extra dependencies for time series forecasting, which are not installed. It can infuence the performance. Please install it by 'pip install fedot[extra]'\n",
      "2024-08-29 12:12:50,134 - Topological features operation requires extra dependencies for time series forecasting, which are not installed. It can infuence the performance. Please install it by 'pip install fedot[extra]'\n",
      "2024-08-29 12:19:30,776 - MultiprocessingDispatcher - 3 individuals out of 3 in previous population were evaluated successfully.\n",
      "2024-08-29 12:19:36,877 - Topological features operation requires extra dependencies for time series forecasting, which are not installed. It can infuence the performance. Please install it by 'pip install fedot[extra]'\n",
      "2024-08-29 12:19:36,892 - Topological features operation requires extra dependencies for time series forecasting, which are not installed. It can infuence the performance. Please install it by 'pip install fedot[extra]'\n",
      "2024-08-29 12:19:36,988 - Topological features operation requires extra dependencies for time series forecasting, which are not installed. It can infuence the performance. Please install it by 'pip install fedot[extra]'\n",
      "2024-08-29 12:19:37,153 - Topological features operation requires extra dependencies for time series forecasting, which are not installed. It can infuence the performance. Please install it by 'pip install fedot[extra]'\n",
      "2024-08-29 12:19:37,272 - Topological features operation requires extra dependencies for time series forecasting, which are not installed. It can infuence the performance. Please install it by 'pip install fedot[extra]'\n",
      "2024-08-29 12:19:37,494 - Topological features operation requires extra dependencies for time series forecasting, which are not installed. It can infuence the performance. Please install it by 'pip install fedot[extra]'\n",
      "2024-08-29 12:19:37,520 - Topological features operation requires extra dependencies for time series forecasting, which are not installed. It can infuence the performance. Please install it by 'pip install fedot[extra]'\n",
      "2024-08-29 12:19:37,548 - Topological features operation requires extra dependencies for time series forecasting, which are not installed. It can infuence the performance. Please install it by 'pip install fedot[extra]'\n",
      "2024-08-29 12:19:37,656 - Topological features operation requires extra dependencies for time series forecasting, which are not installed. It can infuence the performance. Please install it by 'pip install fedot[extra]'\n",
      "2024-08-29 12:19:37,757 - Topological features operation requires extra dependencies for time series forecasting, which are not installed. It can infuence the performance. Please install it by 'pip install fedot[extra]'\n",
      "2024-08-29 12:19:37,832 - Topological features operation requires extra dependencies for time series forecasting, which are not installed. It can infuence the performance. Please install it by 'pip install fedot[extra]'\n",
      "2024-08-29 12:19:37,914 - Topological features operation requires extra dependencies for time series forecasting, which are not installed. It can infuence the performance. Please install it by 'pip install fedot[extra]'\n",
      "2024-08-29 12:19:38,071 - Topological features operation requires extra dependencies for time series forecasting, which are not installed. It can infuence the performance. Please install it by 'pip install fedot[extra]'\n",
      "2024-08-29 12:19:38,342 - Topological features operation requires extra dependencies for time series forecasting, which are not installed. It can infuence the performance. Please install it by 'pip install fedot[extra]'\n",
      "2024-08-29 12:19:38,796 - Topological features operation requires extra dependencies for time series forecasting, which are not installed. It can infuence the performance. Please install it by 'pip install fedot[extra]'\n",
      "2024-08-29 12:30:13,215 - MultiprocessingDispatcher - 19 individuals out of 21 in previous population were evaluated successfully.\n",
      "2024-08-29 12:30:26,938 - Topological features operation requires extra dependencies for time series forecasting, which are not installed. It can infuence the performance. Please install it by 'pip install fedot[extra]'\n",
      "2024-08-29 12:30:27,037 - Topological features operation requires extra dependencies for time series forecasting, which are not installed. It can infuence the performance. Please install it by 'pip install fedot[extra]'\n",
      "2024-08-29 12:30:27,470 - Topological features operation requires extra dependencies for time series forecasting, which are not installed. It can infuence the performance. Please install it by 'pip install fedot[extra]'\n",
      "2024-08-29 12:30:27,496 - Topological features operation requires extra dependencies for time series forecasting, which are not installed. It can infuence the performance. Please install it by 'pip install fedot[extra]'\n",
      "2024-08-29 12:30:27,590 - Topological features operation requires extra dependencies for time series forecasting, which are not installed. It can infuence the performance. Please install it by 'pip install fedot[extra]'\n",
      "2024-08-29 12:30:27,763 - Topological features operation requires extra dependencies for time series forecasting, which are not installed. It can infuence the performance. Please install it by 'pip install fedot[extra]'\n",
      "2024-08-29 12:30:27,898 - Topological features operation requires extra dependencies for time series forecasting, which are not installed. It can infuence the performance. Please install it by 'pip install fedot[extra]'\n",
      "2024-08-29 12:30:28,382 - Topological features operation requires extra dependencies for time series forecasting, which are not installed. It can infuence the performance. Please install it by 'pip install fedot[extra]'\n",
      "2024-08-29 12:30:28,420 - Topological features operation requires extra dependencies for time series forecasting, which are not installed. It can infuence the performance. Please install it by 'pip install fedot[extra]'\n",
      "2024-08-29 12:30:28,779 - Topological features operation requires extra dependencies for time series forecasting, which are not installed. It can infuence the performance. Please install it by 'pip install fedot[extra]'\n",
      "2024-08-29 12:30:28,861 - Topological features operation requires extra dependencies for time series forecasting, which are not installed. It can infuence the performance. Please install it by 'pip install fedot[extra]'\n",
      "2024-08-29 12:30:28,884 - Topological features operation requires extra dependencies for time series forecasting, which are not installed. It can infuence the performance. Please install it by 'pip install fedot[extra]'\n",
      "2024-08-29 12:37:09,736 - MultiprocessingDispatcher - 13 individuals out of 13 in previous population were evaluated successfully.\n",
      "2024-08-29 12:37:14,803 - Topological features operation requires extra dependencies for time series forecasting, which are not installed. It can infuence the performance. Please install it by 'pip install fedot[extra]'\n",
      "2024-08-29 12:37:14,866 - Topological features operation requires extra dependencies for time series forecasting, which are not installed. It can infuence the performance. Please install it by 'pip install fedot[extra]'\n",
      "2024-08-29 12:37:36,268 - MultiprocessingDispatcher - 3 individuals out of 3 in previous population were evaluated successfully.\n",
      "2024-08-29 12:37:41,265 - Topological features operation requires extra dependencies for time series forecasting, which are not installed. It can infuence the performance. Please install it by 'pip install fedot[extra]'\n",
      "2024-08-29 12:37:41,308 - Topological features operation requires extra dependencies for time series forecasting, which are not installed. It can infuence the performance. Please install it by 'pip install fedot[extra]'\n",
      "2024-08-29 12:37:41,371 - Topological features operation requires extra dependencies for time series forecasting, which are not installed. It can infuence the performance. Please install it by 'pip install fedot[extra]'\n",
      "2024-08-29 12:38:37,973 - MultiprocessingDispatcher - 3 individuals out of 3 in previous population were evaluated successfully.\n"
     ]
    },
    {
     "name": "stderr",
     "output_type": "stream",
     "text": [
      "Generations:   0%|                                                            | 1/10000 [25:52<4311:32:15, 1552.31s/gen]"
     ]
    },
    {
     "name": "stdout",
     "output_type": "stream",
     "text": [
      "2024-08-29 12:38:51,673 - Topological features operation requires extra dependencies for time series forecasting, which are not installed. It can infuence the performance. Please install it by 'pip install fedot[extra]'\n",
      "2024-08-29 12:38:51,744 - Topological features operation requires extra dependencies for time series forecasting, which are not installed. It can infuence the performance. Please install it by 'pip install fedot[extra]'\n",
      "2024-08-29 12:38:51,802 - Topological features operation requires extra dependencies for time series forecasting, which are not installed. It can infuence the performance. Please install it by 'pip install fedot[extra]'\n",
      "2024-08-29 12:38:51,802 - Topological features operation requires extra dependencies for time series forecasting, which are not installed. It can infuence the performance. Please install it by 'pip install fedot[extra]'\n",
      "2024-08-29 12:38:51,933 - Topological features operation requires extra dependencies for time series forecasting, which are not installed. It can infuence the performance. Please install it by 'pip install fedot[extra]'\n",
      "2024-08-29 12:38:52,039 - Topological features operation requires extra dependencies for time series forecasting, which are not installed. It can infuence the performance. Please install it by 'pip install fedot[extra]'\n",
      "2024-08-29 12:38:52,350 - Topological features operation requires extra dependencies for time series forecasting, which are not installed. It can infuence the performance. Please install it by 'pip install fedot[extra]'\n",
      "2024-08-29 12:38:52,631 - Topological features operation requires extra dependencies for time series forecasting, which are not installed. It can infuence the performance. Please install it by 'pip install fedot[extra]'\n",
      "2024-08-29 12:38:52,680 - Topological features operation requires extra dependencies for time series forecasting, which are not installed. It can infuence the performance. Please install it by 'pip install fedot[extra]'\n",
      "2024-08-29 12:38:53,099 - Topological features operation requires extra dependencies for time series forecasting, which are not installed. It can infuence the performance. Please install it by 'pip install fedot[extra]'\n",
      "2024-08-29 12:39:20,602 - MultiprocessingDispatcher - 14 individuals out of 14 in previous population were evaluated successfully.\n",
      "2024-08-29 12:46:06,669 - MultiprocessingDispatcher - 16 individuals out of 17 in previous population were evaluated successfully.\n",
      "2024-08-29 12:46:11,606 - Topological features operation requires extra dependencies for time series forecasting, which are not installed. It can infuence the performance. Please install it by 'pip install fedot[extra]'\n",
      "2024-08-29 13:00:44,055 - MultiprocessingDispatcher - 2 individuals out of 2 in previous population were evaluated successfully.\n"
     ]
    },
    {
     "name": "stderr",
     "output_type": "stream",
     "text": [
      "Generations:   0%|                                                            | 2/10000 [47:58<3941:32:24, 1419.24s/gen]"
     ]
    },
    {
     "name": "stdout",
     "output_type": "stream",
     "text": [
      "2024-08-29 13:01:02,750 - Topological features operation requires extra dependencies for time series forecasting, which are not installed. It can infuence the performance. Please install it by 'pip install fedot[extra]'\n",
      "2024-08-29 13:01:03,222 - Topological features operation requires extra dependencies for time series forecasting, which are not installed. It can infuence the performance. Please install it by 'pip install fedot[extra]'\n",
      "2024-08-29 13:01:03,671 - Topological features operation requires extra dependencies for time series forecasting, which are not installed. It can infuence the performance. Please install it by 'pip install fedot[extra]'\n",
      "2024-08-29 13:01:03,886 - Topological features operation requires extra dependencies for time series forecasting, which are not installed. It can infuence the performance. Please install it by 'pip install fedot[extra]'\n",
      "2024-08-29 13:01:03,959 - Topological features operation requires extra dependencies for time series forecasting, which are not installed. It can infuence the performance. Please install it by 'pip install fedot[extra]'\n",
      "2024-08-29 13:01:04,125 - Topological features operation requires extra dependencies for time series forecasting, which are not installed. It can infuence the performance. Please install it by 'pip install fedot[extra]'\n",
      "2024-08-29 13:01:04,258 - Topological features operation requires extra dependencies for time series forecasting, which are not installed. It can infuence the performance. Please install it by 'pip install fedot[extra]'\n",
      "2024-08-29 13:01:04,691 - Topological features operation requires extra dependencies for time series forecasting, which are not installed. It can infuence the performance. Please install it by 'pip install fedot[extra]'\n",
      "2024-08-29 13:01:04,762 - Topological features operation requires extra dependencies for time series forecasting, which are not installed. It can infuence the performance. Please install it by 'pip install fedot[extra]'\n",
      "2024-08-29 13:01:04,856 - Topological features operation requires extra dependencies for time series forecasting, which are not installed. It can infuence the performance. Please install it by 'pip install fedot[extra]'\n",
      "2024-08-29 13:01:05,058 - Topological features operation requires extra dependencies for time series forecasting, which are not installed. It can infuence the performance. Please install it by 'pip install fedot[extra]'\n",
      "2024-08-29 13:01:05,108 - Topological features operation requires extra dependencies for time series forecasting, which are not installed. It can infuence the performance. Please install it by 'pip install fedot[extra]'\n",
      "2024-08-29 13:01:05,157 - Topological features operation requires extra dependencies for time series forecasting, which are not installed. It can infuence the performance. Please install it by 'pip install fedot[extra]'\n",
      "2024-08-29 13:01:05,346 - Topological features operation requires extra dependencies for time series forecasting, which are not installed. It can infuence the performance. Please install it by 'pip install fedot[extra]'\n",
      "2024-08-29 13:01:05,881 - Topological features operation requires extra dependencies for time series forecasting, which are not installed. It can infuence the performance. Please install it by 'pip install fedot[extra]'\n",
      "2024-08-29 13:20:19,116 - MultiprocessingDispatcher - 18 individuals out of 18 in previous population were evaluated successfully.\n",
      "2024-08-29 13:29:02,948 - MultiprocessingDispatcher - 3 individuals out of 3 in previous population were evaluated successfully.\n"
     ]
    },
    {
     "name": "stderr",
     "output_type": "stream",
     "text": [
      "Generations:   0%|                                                          | 3/10000 [1:16:17<4295:44:48, 1546.93s/gen]"
     ]
    },
    {
     "name": "stdout",
     "output_type": "stream",
     "text": [
      "2024-08-29 13:29:03,007 - GroupedCondition - Optimisation stopped: Time limit is reached\n"
     ]
    },
    {
     "name": "stderr",
     "output_type": "stream",
     "text": [
      "Generations:   0%|                                                          | 3/10000 [1:16:17<4237:00:08, 1525.78s/gen]"
     ]
    },
    {
     "name": "stdout",
     "output_type": "stream",
     "text": [
      "2024-08-29 13:29:03,068 - ApiComposer - Hyperparameters tuning started with 44 min. timeout\n"
     ]
    },
    {
     "name": "stderr",
     "output_type": "stream",
     "text": [
      "\n"
     ]
    },
    {
     "name": "stdout",
     "output_type": "stream",
     "text": [
      "2024-08-29 13:30:08,053 - SimultaneousTuner - Initial graph: {'depth': 2, 'length': 2, 'nodes': [logit, fast_ica]}\n",
      "logit - {}\n",
      "fast_ica - {'whiten': 'unit-variance'} \n",
      "Initial metric: [0.987]\n",
      "  0%|                                       | 319/100000 [41:28<216:00:03,  7.80s/trial, best loss: -0.9183575254312253]\n",
      "2024-08-29 14:11:42,563 - SimultaneousTuner - Final graph: {'depth': 2, 'length': 2, 'nodes': [logit, fast_ica]}\n",
      "logit - {}\n",
      "fast_ica - {'whiten': 'unit-variance'}\n",
      "2024-08-29 14:11:42,565 - SimultaneousTuner - Final metric: 0.987\n",
      "2024-08-29 14:11:42,571 - ApiComposer - Hyperparameters tuning finished\n",
      "2024-08-29 14:11:42,808 - ApiComposer - Model generation finished\n",
      "2024-08-29 14:11:55,410 - FEDOT logger - Final pipeline was fitted\n",
      "2024-08-29 14:11:55,413 - FEDOT logger - Final pipeline: {'depth': 2, 'length': 2, 'nodes': [logit, fast_ica]}\n",
      "logit - {}\n",
      "fast_ica - {'whiten': 'unit-variance'}\n"
     ]
    },
    {
     "data": {
      "text/plain": [
       "{'depth': 2, 'length': 2, 'nodes': [logit, fast_ica]}"
      ]
     },
     "execution_count": 4,
     "metadata": {},
     "output_type": "execute_result"
    }
   ],
   "source": [
    "# Преобразуем DataFrame в numpy массив перед передачей в FEDOT\n",
    "X_train_np = X_train.values\n",
    "X_test_np = X_test.values\n",
    "\n",
    "# Создание объекта InputData для обучающей выборки\n",
    "train_input = InputData(idx=np.arange(0, len(X_train_np)),\n",
    "                        features=X_train_np,\n",
    "                        target=y_train.values,  # Преобразование y_train в numpy массив\n",
    "                        task=Task(TaskTypesEnum.classification),\n",
    "                        data_type=DataTypesEnum.table)\n",
    "\n",
    "# Создание объекта InputData для тестовой выборки\n",
    "test_input = InputData(idx=np.arange(0, len(X_test_np)),\n",
    "                       features=X_test_np,\n",
    "                       target=y_test.values,  # Преобразование y_test в numpy массив\n",
    "                       task=Task(TaskTypesEnum.classification),\n",
    "                       data_type=DataTypesEnum.table)\n",
    "\n",
    "# Настройка FEDOT с пресетом на максимальную производительность\n",
    "pipeline = Fedot(problem='classification', preset='best_quality', timeout=120)\n",
    "\n",
    "# Обучение модели на обучающей выборке\n",
    "pipeline.fit(train_input)"
   ]
  },
  {
   "cell_type": "code",
   "execution_count": 5,
   "id": "56b5e185",
   "metadata": {},
   "outputs": [
    {
     "name": "stdout",
     "output_type": "stream",
     "text": [
      "Accuracy на тестовой выборке: 0.8449275362318841\n",
      "F1-score на тестовой выборке: 0.8259691654856476\n",
      "Precision на тестовой выборке: 0.8179772295405968\n",
      "Recall на тестовой выборке: 0.8449275362318841\n",
      "Classification Report:\n",
      "               precision    recall  f1-score   support\n",
      "\n",
      "         0.0       0.89      0.95      0.92       570\n",
      "         1.0       0.23      0.17      0.19        30\n",
      "         2.0       0.48      0.22      0.30        60\n",
      "         3.0       0.80      0.80      0.80        30\n",
      "\n",
      "    accuracy                           0.84       690\n",
      "   macro avg       0.60      0.53      0.55       690\n",
      "weighted avg       0.82      0.84      0.83       690\n",
      "\n"
     ]
    },
    {
     "data": {
      "image/png": "[encoded data removed]",
      "text/plain": [
       "<Figure size 1000x700 with 2 Axes>"
      ]
     },
     "metadata": {},
     "output_type": "display_data"
    }
   ],
   "source": [
    "import numpy as np\n",
    "import pandas as pd\n",
    "from fedot.api.main import Fedot\n",
    "from fedot.core.data.data import InputData\n",
    "from fedot.core.data.data import Task, TaskTypesEnum, DataTypesEnum\n",
    "from sklearn.metrics import accuracy_score, classification_report, confusion_matrix, f1_score, precision_score, recall_score\n",
    "import matplotlib.pyplot as plt\n",
    "import seaborn as sns\n",
    "\n",
    "# Предсказание на тестовой выборке\n",
    "results = pipeline.predict(test_input)\n",
    "\n",
    "# Преобразование результатов в понятный формат\n",
    "y_pred = results\n",
    "\n",
    "# Метрики на тестовой выборке\n",
    "accuracy = accuracy_score(y_test, y_pred)\n",
    "report = classification_report(y_test, y_pred)\n",
    "matrix = confusion_matrix(y_test, y_pred)\n",
    "f1 = f1_score(y_test, y_pred, average='weighted')\n",
    "precision = precision_score(y_test, y_pred, average='weighted')\n",
    "recall = recall_score(y_test, y_pred, average='weighted')\n",
    "\n",
    "print(f'Accuracy на тестовой выборке: {accuracy}')\n",
    "print(f'F1-score на тестовой выборке: {f1}')\n",
    "print(f'Precision на тестовой выборке: {precision}')\n",
    "print(f'Recall на тестовой выборке: {recall}')\n",
    "print('Classification Report:\\n', report)\n",
    "\n",
    "# Визуализация матрицы ошибок\n",
    "plt.figure(figsize=(10, 7))\n",
    "sns.heatmap(matrix, annot=True, fmt='d', cmap='Blues')\n",
    "plt.title('Confusion Matrix (Тестовая выборка)')\n",
    "plt.xlabel('Predicted')\n",
    "plt.ylabel('True')\n",
    "plt.show()\n"
   ]
  },
  {
   "cell_type": "code",
   "execution_count": 6,
   "id": "d0c2063e",
   "metadata": {},
   "outputs": [
    {
     "data": {
      "image/png": "[encoded data removed]",
      "text/plain": [
       "<Figure size 700x700 with 1 Axes>"
      ]
     },
     "metadata": {},
     "output_type": "display_data"
    }
   ],
   "source": [
    "# Визуализация конфигурации пайплайна\n",
    "pipeline.current_pipeline.show()"
   ]
  },
  {
   "cell_type": "code",
   "execution_count": 7,
   "id": "e6af0bda",
   "metadata": {},
   "outputs": [
    {
     "name": "stdout",
     "output_type": "stream",
     "text": [
      "Результаты сохранены в fedot_test_predictions (0-3 not Park-best).csv\n"
     ]
    }
   ],
   "source": [
    "# Сохранение обученной модели\n",
    "pipeline.current_pipeline.save(path=\"fedot_pipeline_anomaly_detection (0-3 not Park-best)\")\n",
    "\n",
    "# Сохранение предсказаний на тестовой выборке в CSV файл\n",
    "output_path = \"fedot_test_predictions (0-3 not Park-best).csv\"\n",
    "pd.DataFrame({'True Labels': y_test.values, 'Predictions': y_pred.flatten()}).to_csv(output_path, index=False)\n",
    "print(f\"Результаты сохранены в {output_path}\")"
   ]
  },
  {
   "cell_type": "code",
   "execution_count": null,
   "id": "ee283032",
   "metadata": {},
   "outputs": [],
   "source": []
  }
 ],
 "metadata": {
  "kernelspec": {
   "display_name": "Python 3 (ipykernel)",
   "language": "python",
   "name": "python3"
  },
  "language_info": {
   "codemirror_mode": {
    "name": "ipython",
    "version": 3
   },
   "file_extension": ".py",
   "mimetype": "text/x-python",
   "name": "python",
   "nbconvert_exporter": "python",
   "pygments_lexer": "ipython3",
   "version": "3.11.9"
  }
 },
 "nbformat": 4,
 "nbformat_minor": 5
}
