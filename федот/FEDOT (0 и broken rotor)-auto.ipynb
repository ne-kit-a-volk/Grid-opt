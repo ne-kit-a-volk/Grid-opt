{
 "cells": [
  {
   "cell_type": "code",
   "execution_count": 5,
   "id": "3c3b01ba",
   "metadata": {
    "scrolled": true
   },
   "outputs": [],
   "source": [
    "# Блокнот для анализа аномалий с использованием FEDOT\n",
    "# Установка необходимых библиотек\n",
    "#!pip install Fedot -U\n",
    "#!pip install fedot[extra]\n",
    "#!pip install torch"
   ]
  },
  {
   "cell_type": "code",
   "execution_count": 6,
   "id": "cba111b9",
   "metadata": {},
   "outputs": [],
   "source": [
    "import pandas as pd\n",
    "import numpy as np\n",
    "from sklearn.metrics import accuracy_score, classification_report, confusion_matrix\n",
    "import matplotlib.pyplot as plt\n",
    "import seaborn as sns\n",
    "\n",
    "# Импорт необходимых модулей из FEDOT\n",
    "from fedot.core.repository.tasks import Task, TaskTypesEnum\n",
    "from fedot.core.repository.dataset_types import DataTypesEnum\n",
    "from fedot.core.data.data import InputData\n",
    "from fedot.api.main import Fedot"
   ]
  },
  {
   "cell_type": "code",
   "execution_count": 7,
   "id": "20c3c186",
   "metadata": {},
   "outputs": [
    {
     "name": "stdout",
     "output_type": "stream",
     "text": [
      "Размер обучающей выборки: (1632000, 90)\n",
      "Размер тестовой выборки: (408000, 90)\n"
     ]
    }
   ],
   "source": [
    "# Загрузка и подготовка данных\n",
    "import pandas as pd\n",
    "from sklearn.model_selection import train_test_split\n",
    "\n",
    "# Загрузите ваши датафреймы\n",
    "df_broken = pd.read_csv(\"processed_data_rotor_bar_broken_with_diffs_and_wavelets.csv\")\n",
    "df_healthy = pd.read_csv(\"processed_data_rotor_healthy_with_diffs_and_wavelets.csv\")\n",
    "\n",
    "# Добавляем колонку 'class' для различения классов\n",
    "\n",
    "# Объединяем оба датафрейма\n",
    "df_combined = pd.concat([df_broken, df_healthy], ignore_index=True)\n",
    "\n",
    "# Удаляем колонку 'measurement'\n",
    "df_combined.drop(columns=['measurement'], inplace=True)\n",
    "\n",
    "# Разделяем данные и метки\n",
    "X = df_combined.drop(columns=['label'])\n",
    "y = df_combined['label']\n",
    "\n",
    "X_train, X_test, y_train, y_test = train_test_split(X, y, test_size=0.2, random_state=42, stratify=y)\n",
    "\n",
    "# Выводим информацию о сформированных наборах\n",
    "print(f\"Размер обучающей выборки: {X_train.shape}\")\n",
    "print(f\"Размер тестовой выборки: {X_test.shape}\")\n"
   ]
  },
  {
   "cell_type": "code",
   "execution_count": null,
   "id": "eccdea0e",
   "metadata": {},
   "outputs": [],
   "source": [
    "# Преобразуем DataFrame в numpy массив перед передачей в FEDOT\n",
    "X_train_np = X_train.values\n",
    "X_test_np = X_test.values\n",
    "\n",
    "# Создание объекта InputData для обучающей выборки\n",
    "train_input = InputData(idx=np.arange(0, len(X_train_np)),\n",
    "                        features=X_train_np,\n",
    "                        target=y_train.values,  # Преобразование y_train в numpy массив\n",
    "                        task=Task(TaskTypesEnum.classification),\n",
    "                        data_type=DataTypesEnum.table)\n",
    "\n",
    "# Создание объекта InputData для тестовой выборки\n",
    "test_input = InputData(idx=np.arange(0, len(X_test_np)),\n",
    "                       features=X_test_np,\n",
    "                       target=y_test.values,  # Преобразование y_test в numpy массив\n",
    "                       task=Task(TaskTypesEnum.classification),\n",
    "                       data_type=DataTypesEnum.table)\n",
    "\n",
    "# Настройка FEDOT с пресетом на максимальную производительность\n",
    "pipeline = Fedot(problem='classification', preset='auto', timeout=60)\n",
    "\n",
    "# Обучение модели на обучающей выборке\n",
    "pipeline.fit(train_input)"
   ]
  },
  {
   "cell_type": "code",
   "execution_count": null,
   "id": "56b5e185",
   "metadata": {},
   "outputs": [],
   "source": [
    "import numpy as np\n",
    "import pandas as pd\n",
    "from fedot.api.main import Fedot\n",
    "from fedot.core.data.data import InputData\n",
    "from fedot.core.data.data import Task, TaskTypesEnum, DataTypesEnum\n",
    "from sklearn.metrics import accuracy_score, classification_report, confusion_matrix, f1_score, precision_score, recall_score\n",
    "import matplotlib.pyplot as plt\n",
    "import seaborn as sns\n",
    "\n",
    "# Предсказание на тестовой выборке\n",
    "results = pipeline.predict(test_input)\n",
    "\n",
    "# Преобразование результатов в понятный формат\n",
    "y_pred = results\n",
    "\n",
    "# Метрики на тестовой выборке\n",
    "accuracy = accuracy_score(y_test, y_pred)\n",
    "report = classification_report(y_test, y_pred)\n",
    "matrix = confusion_matrix(y_test, y_pred)\n",
    "f1 = f1_score(y_test, y_pred, average='weighted')\n",
    "precision = precision_score(y_test, y_pred, average='weighted')\n",
    "recall = recall_score(y_test, y_pred, average='weighted')\n",
    "\n",
    "print(f'Accuracy на тестовой выборке: {accuracy}')\n",
    "print(f'F1-score на тестовой выборке: {f1}')\n",
    "print(f'Precision на тестовой выборке: {precision}')\n",
    "print(f'Recall на тестовой выборке: {recall}')\n",
    "print('Classification Report:\\n', report)\n",
    "\n",
    "# Визуализация матрицы ошибок\n",
    "plt.figure(figsize=(10, 7))\n",
    "sns.heatmap(matrix, annot=True, fmt='d', cmap='Blues')\n",
    "plt.title('Confusion Matrix (Тестовая выборка)')\n",
    "plt.xlabel('Predicted')\n",
    "plt.ylabel('True')\n",
    "plt.show()\n"
   ]
  },
  {
   "cell_type": "code",
   "execution_count": null,
   "id": "d0c2063e",
   "metadata": {},
   "outputs": [],
   "source": [
    "# Визуализация конфигурации пайплайна\n",
    "pipeline.current_pipeline.show()"
   ]
  },
  {
   "cell_type": "code",
   "execution_count": null,
   "id": "e6af0bda",
   "metadata": {},
   "outputs": [],
   "source": [
    "# Сохранение обученной модели\n",
    "pipeline.current_pipeline.save(path=\"fedot_pipeline_anomaly_detection (0 and broken) - auto\")\n",
    "\n",
    "# Сохранение предсказаний на тестовой выборке в CSV файл\n",
    "output_path = \"fedot_test_predictions (0 and broken - auto).csv\"\n",
    "pd.DataFrame({'True Labels': y_test.values, 'Predictions': y_pred.flatten()}).to_csv(output_path, index=False)\n",
    "print(f\"Результаты сохранены в {output_path}\")"
   ]
  },
  {
   "cell_type": "code",
   "execution_count": null,
   "id": "ee283032",
   "metadata": {},
   "outputs": [],
   "source": []
  }
 ],
 "metadata": {
  "kernelspec": {
   "display_name": "Python 3 (ipykernel)",
   "language": "python",
   "name": "python3"
  },
  "language_info": {
   "codemirror_mode": {
    "name": "ipython",
    "version": 3
   },
   "file_extension": ".py",
   "mimetype": "text/x-python",
   "name": "python",
   "nbconvert_exporter": "python",
   "pygments_lexer": "ipython3",
   "version": "3.11.9"
  }
 },
 "nbformat": 4,
 "nbformat_minor": 5
}
