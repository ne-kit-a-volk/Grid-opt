{
 "cells": [
  {
   "cell_type": "code",
   "execution_count": 1,
   "id": "3c3b01ba",
   "metadata": {
    "scrolled": true
   },
   "outputs": [],
   "source": [
    "# Блокнот для анализа аномалий с использованием FEDOT\n",
    "# Установка необходимых библиотек\n",
    "#!pip install Fedot -U\n",
    "#!pip install fedot[extra]\n",
    "#!pip install torch"
   ]
  },
  {
   "cell_type": "code",
   "execution_count": 2,
   "id": "cba111b9",
   "metadata": {},
   "outputs": [],
   "source": [
    "import pandas as pd\n",
    "import numpy as np\n",
    "from sklearn.metrics import accuracy_score, classification_report, confusion_matrix\n",
    "import matplotlib.pyplot as plt\n",
    "import seaborn as sns\n",
    "\n",
    "# Импорт необходимых модулей из FEDOT\n",
    "from fedot.core.repository.tasks import Task, TaskTypesEnum\n",
    "from fedot.core.repository.dataset_types import DataTypesEnum\n",
    "from fedot.core.data.data import InputData\n",
    "from fedot.api.main import Fedot"
   ]
  },
  {
   "cell_type": "code",
   "execution_count": 3,
   "id": "20c3c186",
   "metadata": {},
   "outputs": [
    {
     "name": "stdout",
     "output_type": "stream",
     "text": [
      "Размер обучающей выборки: (2700, 406)\n",
      "Размер тестовой выборки: (690, 406)\n"
     ]
    }
   ],
   "source": [
    "# Загрузка и подготовка данных\n",
    "file_path = r\"Классы 0-3 с Парком.csv\"\n",
    "data = pd.read_csv(file_path)\n",
    "\n",
    "# Создание замеров по 30 записей для каждого класса\n",
    "def create_measurements(data, label):\n",
    "    data_label = data[data['label'] == label]\n",
    "    measurements = [data_label.iloc[i:i + 30] for i in range(0, len(data_label), 30) if len(data_label.iloc[i:i + 30]) == 30]\n",
    "    return measurements\n",
    "\n",
    "# Создаем замеры для каждого класса\n",
    "measurements_class_0 = create_measurements(data, 0)\n",
    "measurements_class_1 = create_measurements(data, 1)\n",
    "measurements_class_2 = create_measurements(data, 2)\n",
    "measurements_class_3 = create_measurements(data, 3)\n",
    "\n",
    "# Извлечение 80% замеров для тренировки и 20% для теста для каждого класса\n",
    "def split_measurements(measurements):\n",
    "    num_measurements = len(measurements)\n",
    "    train_measurements = measurements[:int(0.80 * num_measurements)]\n",
    "    test_measurements = measurements[int(0.80 * num_measurements):]\n",
    "    return train_measurements, test_measurements\n",
    "\n",
    "train_measurements_0, test_measurements_0 = split_measurements(measurements_class_0)\n",
    "train_measurements_1, test_measurements_1 = split_measurements(measurements_class_1)\n",
    "train_measurements_2, test_measurements_2 = split_measurements(measurements_class_2)\n",
    "train_measurements_3, test_measurements_3 = split_measurements(measurements_class_3)\n",
    "\n",
    "# Объединение замеров в DataFrame для обучения и тестирования\n",
    "train_data = pd.concat(train_measurements_0 + train_measurements_1 + train_measurements_2 + train_measurements_3)\n",
    "test_data = pd.concat(test_measurements_0 + test_measurements_1 + test_measurements_2 + test_measurements_3)\n",
    "\n",
    "# Разделяем данные на X и y\n",
    "X_train = train_data.drop(columns=['label'])\n",
    "y_train = train_data['label']\n",
    "X_test = test_data.drop(columns=['label'])\n",
    "y_test = test_data['label']\n",
    "\n",
    "# Выводим информацию о сформированных наборах\n",
    "print(f\"Размер обучающей выборки: {X_train.shape}\")\n",
    "print(f\"Размер тестовой выборки: {X_test.shape}\")\n"
   ]
  },
  {
   "cell_type": "code",
   "execution_count": 4,
   "id": "eccdea0e",
   "metadata": {},
   "outputs": [
    {
     "name": "stdout",
     "output_type": "stream",
     "text": [
      "2024-08-29 12:14:29,031 - Topological features operation requires extra dependencies for time series forecasting, which are not installed. It can infuence the performance. Please install it by 'pip install fedot[extra]'\n",
      "2024-08-29 12:14:33,137 - ApiComposer - Initial pipeline was fitted in 20.3 sec.\n",
      "2024-08-29 12:14:33,147 - ApiComposer - AutoML configured. Parameters tuning: True. Time limit: 120 min. Set of candidate models: ['bernb', 'catboost', 'dt', 'fast_ica', 'isolation_forest_class', 'knn', 'lgbm', 'logit', 'mlp', 'normalization', 'pca', 'poly_features', 'qda', 'resample', 'rf', 'scaling', 'xgboost'].\n",
      "2024-08-29 12:14:33,211 - ApiComposer - Pipeline composition started.\n"
     ]
    },
    {
     "name": "stderr",
     "output_type": "stream",
     "text": [
      "Generations:   0%|                                                                           | 0/10000 [00:00<?, ?gen/s]"
     ]
    },
    {
     "name": "stdout",
     "output_type": "stream",
     "text": [
      "2024-08-29 12:14:37,590 - Topological features operation requires extra dependencies for time series forecasting, which are not installed. It can infuence the performance. Please install it by 'pip install fedot[extra]'\n",
      "2024-08-29 12:14:37,590 - Topological features operation requires extra dependencies for time series forecasting, which are not installed. It can infuence the performance. Please install it by 'pip install fedot[extra]'\n",
      "2024-08-29 12:14:37,613 - Topological features operation requires extra dependencies for time series forecasting, which are not installed. It can infuence the performance. Please install it by 'pip install fedot[extra]'\n",
      "2024-08-29 12:27:14,331 - MultiprocessingDispatcher - 3 individuals out of 3 in previous population were evaluated successfully.\n",
      "2024-08-29 12:27:21,991 - Topological features operation requires extra dependencies for time series forecasting, which are not installed. It can infuence the performance. Please install it by 'pip install fedot[extra]'\n",
      "2024-08-29 12:27:22,151 - Topological features operation requires extra dependencies for time series forecasting, which are not installed. It can infuence the performance. Please install it by 'pip install fedot[extra]'\n",
      "2024-08-29 12:27:22,307 - Topological features operation requires extra dependencies for time series forecasting, which are not installed. It can infuence the performance. Please install it by 'pip install fedot[extra]'\n",
      "2024-08-29 12:27:23,070 - Topological features operation requires extra dependencies for time series forecasting, which are not installed. It can infuence the performance. Please install it by 'pip install fedot[extra]'\n",
      "2024-08-29 12:27:23,488 - Topological features operation requires extra dependencies for time series forecasting, which are not installed. It can infuence the performance. Please install it by 'pip install fedot[extra]'\n",
      "2024-08-29 12:27:23,804 - Topological features operation requires extra dependencies for time series forecasting, which are not installed. It can infuence the performance. Please install it by 'pip install fedot[extra]'\n",
      "2024-08-29 12:27:24,068 - Topological features operation requires extra dependencies for time series forecasting, which are not installed. It can infuence the performance. Please install it by 'pip install fedot[extra]'\n",
      "2024-08-29 12:27:24,113 - Topological features operation requires extra dependencies for time series forecasting, which are not installed. It can infuence the performance. Please install it by 'pip install fedot[extra]'\n",
      "2024-08-29 12:27:24,142 - Topological features operation requires extra dependencies for time series forecasting, which are not installed. It can infuence the performance. Please install it by 'pip install fedot[extra]'\n",
      "2024-08-29 12:27:24,160 - Topological features operation requires extra dependencies for time series forecasting, which are not installed. It can infuence the performance. Please install it by 'pip install fedot[extra]'\n",
      "2024-08-29 12:27:24,280 - Topological features operation requires extra dependencies for time series forecasting, which are not installed. It can infuence the performance. Please install it by 'pip install fedot[extra]'\n",
      "2024-08-29 12:27:24,286 - Topological features operation requires extra dependencies for time series forecasting, which are not installed. It can infuence the performance. Please install it by 'pip install fedot[extra]'\n",
      "2024-08-29 12:27:24,367 - Topological features operation requires extra dependencies for time series forecasting, which are not installed. It can infuence the performance. Please install it by 'pip install fedot[extra]'\n",
      "2024-08-29 12:27:24,541 - Topological features operation requires extra dependencies for time series forecasting, which are not installed. It can infuence the performance. Please install it by 'pip install fedot[extra]'\n",
      "2024-08-29 12:27:25,126 - Topological features operation requires extra dependencies for time series forecasting, which are not installed. It can infuence the performance. Please install it by 'pip install fedot[extra]'\n",
      "2024-08-29 12:45:42,678 - MultiprocessingDispatcher - 21 individuals out of 21 in previous population were evaluated successfully.\n",
      "2024-08-29 12:45:52,682 - Topological features operation requires extra dependencies for time series forecasting, which are not installed. It can infuence the performance. Please install it by 'pip install fedot[extra]'\n",
      "2024-08-29 12:45:52,710 - Topological features operation requires extra dependencies for time series forecasting, which are not installed. It can infuence the performance. Please install it by 'pip install fedot[extra]'\n",
      "2024-08-29 12:45:52,711 - Topological features operation requires extra dependencies for time series forecasting, which are not installed. It can infuence the performance. Please install it by 'pip install fedot[extra]'\n",
      "2024-08-29 12:45:52,712 - Topological features operation requires extra dependencies for time series forecasting, which are not installed. It can infuence the performance. Please install it by 'pip install fedot[extra]'\n",
      "2024-08-29 12:45:52,734 - Topological features operation requires extra dependencies for time series forecasting, which are not installed. It can infuence the performance. Please install it by 'pip install fedot[extra]'\n",
      "2024-08-29 12:45:52,771 - Topological features operation requires extra dependencies for time series forecasting, which are not installed. It can infuence the performance. Please install it by 'pip install fedot[extra]'\n",
      "2024-08-29 12:45:52,775 - Topological features operation requires extra dependencies for time series forecasting, which are not installed. It can infuence the performance. Please install it by 'pip install fedot[extra]'\n",
      "2024-08-29 12:45:52,776 - Topological features operation requires extra dependencies for time series forecasting, which are not installed. It can infuence the performance. Please install it by 'pip install fedot[extra]'\n",
      "2024-08-29 12:45:52,792 - Topological features operation requires extra dependencies for time series forecasting, which are not installed. It can infuence the performance. Please install it by 'pip install fedot[extra]'\n",
      "2024-08-29 12:45:52,807 - Topological features operation requires extra dependencies for time series forecasting, which are not installed. It can infuence the performance. Please install it by 'pip install fedot[extra]'\n",
      "2024-08-29 12:45:52,825 - Topological features operation requires extra dependencies for time series forecasting, which are not installed. It can infuence the performance. Please install it by 'pip install fedot[extra]'\n",
      "2024-08-29 12:59:31,244 - MultiprocessingDispatcher - 14 individuals out of 14 in previous population were evaluated successfully.\n",
      "2024-08-29 12:59:35,766 - Topological features operation requires extra dependencies for time series forecasting, which are not installed. It can infuence the performance. Please install it by 'pip install fedot[extra]'\n",
      "2024-08-29 12:59:35,775 - Topological features operation requires extra dependencies for time series forecasting, which are not installed. It can infuence the performance. Please install it by 'pip install fedot[extra]'\n",
      "2024-08-29 12:59:46,994 - MultiprocessingDispatcher - 4 individuals out of 5 in previous population were evaluated successfully.\n",
      "2024-08-29 12:59:51,336 - Topological features operation requires extra dependencies for time series forecasting, which are not installed. It can infuence the performance. Please install it by 'pip install fedot[extra]'\n",
      "2024-08-29 12:59:51,342 - Topological features operation requires extra dependencies for time series forecasting, which are not installed. It can infuence the performance. Please install it by 'pip install fedot[extra]'\n",
      "2024-08-29 12:59:51,383 - Topological features operation requires extra dependencies for time series forecasting, which are not installed. It can infuence the performance. Please install it by 'pip install fedot[extra]'\n",
      "2024-08-29 12:59:56,155 - MultiprocessingDispatcher - 2 individuals out of 3 in previous population were evaluated successfully.\n"
     ]
    },
    {
     "name": "stderr",
     "output_type": "stream",
     "text": [
      "Generations:   0%|                                                            | 1/10000 [45:22<7562:52:50, 2722.91s/gen]"
     ]
    },
    {
     "name": "stdout",
     "output_type": "stream",
     "text": [
      "2024-08-29 13:00:01,115 - Topological features operation requires extra dependencies for time series forecasting, which are not installed. It can infuence the performance. Please install it by 'pip install fedot[extra]'\n",
      "2024-08-29 13:00:01,188 - Topological features operation requires extra dependencies for time series forecasting, which are not installed. It can infuence the performance. Please install it by 'pip install fedot[extra]'\n",
      "2024-08-29 13:00:01,230 - Topological features operation requires extra dependencies for time series forecasting, which are not installed. It can infuence the performance. Please install it by 'pip install fedot[extra]'\n",
      "2024-08-29 13:00:01,238 - Topological features operation requires extra dependencies for time series forecasting, which are not installed. It can infuence the performance. Please install it by 'pip install fedot[extra]'\n",
      "2024-08-29 13:00:01,331 - Topological features operation requires extra dependencies for time series forecasting, which are not installed. It can infuence the performance. Please install it by 'pip install fedot[extra]'\n",
      "2024-08-29 13:00:01,331 - Topological features operation requires extra dependencies for time series forecasting, which are not installed. It can infuence the performance. Please install it by 'pip install fedot[extra]'\n",
      "2024-08-29 13:00:01,342 - Topological features operation requires extra dependencies for time series forecasting, which are not installed. It can infuence the performance. Please install it by 'pip install fedot[extra]'\n",
      "2024-08-29 13:00:01,342 - Topological features operation requires extra dependencies for time series forecasting, which are not installed. It can infuence the performance. Please install it by 'pip install fedot[extra]'\n",
      "2024-08-29 13:38:19,149 - MultiprocessingDispatcher - 8 individuals out of 9 in previous population were evaluated successfully.\n"
     ]
    },
    {
     "name": "stderr",
     "output_type": "stream",
     "text": [
      "Generations:   0%|                                                          | 2/10000 [1:33:48<7860:53:32, 2830.49s/gen]"
     ]
    },
    {
     "name": "stdout",
     "output_type": "stream",
     "text": [
      "2024-08-29 13:48:21,983 - GroupedCondition - Optimisation stopped: Time limit is reached\n"
     ]
    },
    {
     "name": "stderr",
     "output_type": "stream",
     "text": [
      "Generations:   0%|                                                          | 2/10000 [1:33:48<7816:07:01, 2814.36s/gen]"
     ]
    },
    {
     "name": "stdout",
     "output_type": "stream",
     "text": [
      "2024-08-29 13:48:22,044 - ApiComposer - Hyperparameters tuning started with 26 min. timeout\n"
     ]
    },
    {
     "name": "stderr",
     "output_type": "stream",
     "text": [
      "\n"
     ]
    },
    {
     "name": "stdout",
     "output_type": "stream",
     "text": [
      "2024-08-29 13:51:57,328 - SimultaneousTuner - Initial graph: {'depth': 1, 'length': 1, 'nodes': [rf]}\n",
      "rf - {'n_jobs': 1, 'criterion': 'entropy', 'max_features': 0.8847841748339572, 'min_samples_split': 2, 'min_samples_leaf': 5, 'bootstrap': True} \n",
      "Initial metric: [0.984]\n",
      "100%|█████████████████████████████████████████████████| 1/1 [03:34<00:00, 214.07s/trial, best loss: -0.9841589867794571]\n",
      "  0%|                                        | 6/100000 [18:28<6159:19:22, 221.75s/trial, best loss: -0.989857409881113]\n",
      "2024-08-29 14:14:40,461 - SimultaneousTuner - Final graph: {'depth': 1, 'length': 1, 'nodes': [rf]}\n",
      "rf - {'n_jobs': 1, 'criterion': 'entropy', 'max_features': 0.0910486506984222, 'min_samples_split': 6, 'min_samples_leaf': 1, 'bootstrap': False}\n",
      "2024-08-29 14:14:40,463 - SimultaneousTuner - Final metric: 0.990\n",
      "2024-08-29 14:14:40,465 - ApiComposer - Hyperparameters tuning finished\n",
      "2024-08-29 14:14:40,638 - ApiComposer - Model generation finished\n",
      "2024-08-29 14:14:50,641 - FEDOT logger - Final pipeline was fitted\n",
      "2024-08-29 14:14:50,644 - FEDOT logger - Final pipeline: {'depth': 1, 'length': 1, 'nodes': [rf]}\n",
      "rf - {'n_jobs': 16, 'criterion': 'entropy', 'max_features': 0.0910486506984222, 'min_samples_split': 6, 'min_samples_leaf': 1, 'bootstrap': False}\n"
     ]
    },
    {
     "data": {
      "text/plain": [
       "{'depth': 1, 'length': 1, 'nodes': [rf]}"
      ]
     },
     "execution_count": 4,
     "metadata": {},
     "output_type": "execute_result"
    }
   ],
   "source": [
    "# Преобразуем DataFrame в numpy массив перед передачей в FEDOT\n",
    "X_train_np = X_train.values\n",
    "X_test_np = X_test.values\n",
    "\n",
    "# Создание объекта InputData для обучающей выборки\n",
    "train_input = InputData(idx=np.arange(0, len(X_train_np)),\n",
    "                        features=X_train_np,\n",
    "                        target=y_train.values,  # Преобразование y_train в numpy массив\n",
    "                        task=Task(TaskTypesEnum.classification),\n",
    "                        data_type=DataTypesEnum.table)\n",
    "\n",
    "# Создание объекта InputData для тестовой выборки\n",
    "test_input = InputData(idx=np.arange(0, len(X_test_np)),\n",
    "                       features=X_test_np,\n",
    "                       target=y_test.values,  # Преобразование y_test в numpy массив\n",
    "                       task=Task(TaskTypesEnum.classification),\n",
    "                       data_type=DataTypesEnum.table)\n",
    "\n",
    "# Настройка FEDOT с пресетом на максимальную производительность\n",
    "pipeline = Fedot(problem='classification', preset='best_quality', timeout=120)\n",
    "\n",
    "# Обучение модели на обучающей выборке\n",
    "pipeline.fit(train_input)"
   ]
  },
  {
   "cell_type": "code",
   "execution_count": 5,
   "id": "56b5e185",
   "metadata": {},
   "outputs": [
    {
     "name": "stdout",
     "output_type": "stream",
     "text": [
      "Accuracy на тестовой выборке: 0.8202898550724638\n",
      "F1-score на тестовой выборке: 0.8005711296116726\n",
      "Precision на тестовой выборке: 0.8091175859998766\n",
      "Recall на тестовой выборке: 0.8202898550724638\n",
      "Classification Report:\n",
      "               precision    recall  f1-score   support\n",
      "\n",
      "         0.0       0.88      0.95      0.91       570\n",
      "         1.0       0.90      0.32      0.47        60\n",
      "         2.0       0.00      0.00      0.00        30\n",
      "         3.0       0.15      0.27      0.19        30\n",
      "\n",
      "    accuracy                           0.82       690\n",
      "   macro avg       0.48      0.38      0.39       690\n",
      "weighted avg       0.81      0.82      0.80       690\n",
      "\n"
     ]
    },
    {
     "data": {
      "image/png": "[encoded data removed]",
      "text/plain": [
       "<Figure size 1000x700 with 2 Axes>"
      ]
     },
     "metadata": {},
     "output_type": "display_data"
    }
   ],
   "source": [
    "import numpy as np\n",
    "import pandas as pd\n",
    "from fedot.api.main import Fedot\n",
    "from fedot.core.data.data import InputData\n",
    "from fedot.core.data.data import Task, TaskTypesEnum, DataTypesEnum\n",
    "from sklearn.metrics import accuracy_score, classification_report, confusion_matrix, f1_score, precision_score, recall_score\n",
    "import matplotlib.pyplot as plt\n",
    "import seaborn as sns\n",
    "\n",
    "# Предсказание на тестовой выборке\n",
    "results = pipeline.predict(test_input)\n",
    "\n",
    "# Преобразование результатов в понятный формат\n",
    "y_pred = results\n",
    "\n",
    "# Метрики на тестовой выборке\n",
    "accuracy = accuracy_score(y_test, y_pred)\n",
    "report = classification_report(y_test, y_pred)\n",
    "matrix = confusion_matrix(y_test, y_pred)\n",
    "f1 = f1_score(y_test, y_pred, average='weighted')\n",
    "precision = precision_score(y_test, y_pred, average='weighted')\n",
    "recall = recall_score(y_test, y_pred, average='weighted')\n",
    "\n",
    "print(f'Accuracy на тестовой выборке: {accuracy}')\n",
    "print(f'F1-score на тестовой выборке: {f1}')\n",
    "print(f'Precision на тестовой выборке: {precision}')\n",
    "print(f'Recall на тестовой выборке: {recall}')\n",
    "print('Classification Report:\\n', report)\n",
    "\n",
    "# Визуализация матрицы ошибок\n",
    "plt.figure(figsize=(10, 7))\n",
    "sns.heatmap(matrix, annot=True, fmt='d', cmap='Blues')\n",
    "plt.title('Confusion Matrix (Тестовая выборка)')\n",
    "plt.xlabel('Predicted')\n",
    "plt.ylabel('True')\n",
    "plt.show()\n"
   ]
  },
  {
   "cell_type": "code",
   "execution_count": 6,
   "id": "d0c2063e",
   "metadata": {},
   "outputs": [
    {
     "data": {
      "image/png": "[encoded data removed]",
      "text/plain": [
       "<Figure size 700x700 with 1 Axes>"
      ]
     },
     "metadata": {},
     "output_type": "display_data"
    }
   ],
   "source": [
    "# Визуализация конфигурации пайплайна\n",
    "pipeline.current_pipeline.show()"
   ]
  },
  {
   "cell_type": "code",
   "execution_count": 7,
   "id": "e6af0bda",
   "metadata": {},
   "outputs": [
    {
     "name": "stdout",
     "output_type": "stream",
     "text": [
      "Результаты сохранены в fedot_test_predictions (0-3 Park)-best.csv\n"
     ]
    }
   ],
   "source": [
    "# Сохранение обученной модели\n",
    "pipeline.current_pipeline.save(path=\"fedot_pipeline_anomaly_detection (0-3 Park)-best\")\n",
    "\n",
    "# Сохранение предсказаний на тестовой выборке в CSV файл\n",
    "output_path = \"fedot_test_predictions (0-3 Park)-best.csv\"\n",
    "pd.DataFrame({'True Labels': y_test.values, 'Predictions': y_pred.flatten()}).to_csv(output_path, index=False)\n",
    "print(f\"Результаты сохранены в {output_path}\")"
   ]
  },
  {
   "cell_type": "code",
   "execution_count": null,
   "id": "86ff9f7f",
   "metadata": {},
   "outputs": [],
   "source": []
  }
 ],
 "metadata": {
  "kernelspec": {
   "display_name": "Python 3 (ipykernel)",
   "language": "python",
   "name": "python3"
  },
  "language_info": {
   "codemirror_mode": {
    "name": "ipython",
    "version": 3
   },
   "file_extension": ".py",
   "mimetype": "text/x-python",
   "name": "python",
   "nbconvert_exporter": "python",
   "pygments_lexer": "ipython3",
   "version": "3.11.9"
  }
 },
 "nbformat": 4,
 "nbformat_minor": 5
}
